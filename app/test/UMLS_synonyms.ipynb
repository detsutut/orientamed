{
 "cells": [
  {
   "cell_type": "code",
   "metadata": {
    "colab": {
     "base_uri": "https://localhost:8080/"
    },
    "id": "psWbER79za76",
    "outputId": "f11b80e3-6532-47ce-83a4-dddcd7e34237",
    "ExecuteTime": {
     "end_time": "2025-04-14T15:32:33.977878Z",
     "start_time": "2025-04-14T15:32:33.744535Z"
    }
   },
   "source": [
    "from bioTextAugPackage.init import *\n",
    "from bioTextAugPackage import search_terms\n",
    "import requests\n",
    "import pandas as pd\n",
    "import json\n",
    "from tqdm import tqdm\n",
    "\n",
    "UMLSKEY=\"23c9650b-e1b9-4932-8ca8-fd13ae45a13c\""
   ],
   "outputs": [],
   "execution_count": 4
  },
  {
   "metadata": {},
   "cell_type": "code",
   "outputs": [],
   "execution_count": null,
   "source": [
    "df = pd.read_csv(\"export.csv\")\n",
    "df.columns\n",
    "snomed_umls = dict()\n",
    "for index, row in df.iterrows():\n",
    "    snomed_umls[row[\"n.id\"]] = search_terms.get_cui_for_code(apikey=UMLSKEY, codes=[row[\"n.id\"]], sabs='SNOMEDCT_US')\n",
    "json.dump(snomed_umls, open(\"snomed2umls.json\", \"w\"))"
   ]
  },
  {
   "metadata": {
    "ExecuteTime": {
     "end_time": "2025-04-14T15:32:38.101257Z",
     "start_time": "2025-04-14T15:32:38.088204Z"
    }
   },
   "cell_type": "code",
   "source": [
    "snomed_umls = json.load(open(\"snomed2umls.json\"))\n",
    "snomed_umls = {k:eval(v) for k,v in snomed_umls.items()}"
   ],
   "outputs": [],
   "execution_count": 5
  },
  {
   "cell_type": "markdown",
   "metadata": {
    "id": "S1zJA93B0ER7"
   },
   "source": [
    "GET SYNONYMS"
   ]
  },
  {
   "cell_type": "code",
   "metadata": {
    "collapsed": true,
    "id": "vykuPqo8zzCv",
    "colab": {
     "base_uri": "https://localhost:8080/"
    },
    "outputId": "27e8f2cf-4b51-4d46-ae6c-99315d11d06f",
    "ExecuteTime": {
     "end_time": "2025-04-14T18:49:45.246261Z",
     "start_time": "2025-04-14T15:32:40.377048Z"
    }
   },
   "source": [
    "uri = 'https://uts-ws.nlm.nih.gov'\n",
    "synonyms = dict()\n",
    "version = 'current'\n",
    "\n",
    "for snomed_code, umls_codes in tqdm(snomed_umls.items()):\n",
    "  synonyms[snomed_code] = []\n",
    "  synonyms_all = []\n",
    "  for umls_code in umls_codes:\n",
    "    content_endpoint = '/rest/content/' + str(version) + '/CUI/' + str(umls_code)\n",
    "    query = {'apiKey': UMLSKEY}\n",
    "    r = requests.get(uri + content_endpoint, params=query)\n",
    "    r.encoding = 'utf-8'\n",
    "\n",
    "    if r.status_code != 200:\n",
    "        continue\n",
    "\n",
    "    items = r.json()\n",
    "    json_data = items['result']\n",
    "    atoms = json_data['atoms']\n",
    "\n",
    "    pages = items['pageSize']\n",
    "    for page in np.arange(pages):\n",
    "        try:\n",
    "            atom_query = {'apiKey': UMLSKEY, 'pageNumber': page}\n",
    "            a = requests.get(atoms, params=atom_query)\n",
    "            a.encoding = 'utf-8'\n",
    "\n",
    "            if a.status_code != 200:\n",
    "                continue\n",
    "            all_atoms = a.json()\n",
    "            json_atoms = all_atoms['result']\n",
    "            for atom in json_atoms:\n",
    "                    if atom['language']=='ENG':\n",
    "                        synonyms_all.append(atom['name'].lower())\n",
    "        except: \"\"\n",
    "  synonyms[snomed_code] = list(set(synonyms_all))"
   ],
   "outputs": [
    {
     "name": "stderr",
     "output_type": "stream",
     "text": [
      "100%|██████████| 1021/1021 [3:17:04<00:00, 11.58s/it] \n"
     ]
    }
   ],
   "execution_count": 6
  },
  {
   "metadata": {
    "colab": {
     "base_uri": "https://localhost:8080/"
    },
    "id": "iUqL-nMhbup4",
    "outputId": "e0f03c0c-c08f-4fb6-fa13-a6a6ab8b56ac",
    "ExecuteTime": {
     "end_time": "2025-04-14T19:44:02.078151Z",
     "start_time": "2025-04-14T19:44:02.073187Z"
    }
   },
   "cell_type": "code",
   "source": "json.dump(synonyms, open(\"synonyms.json\", \"w\"))",
   "outputs": [],
   "execution_count": 7
  },
  {
   "metadata": {
    "ExecuteTime": {
     "end_time": "2025-04-14T19:58:47.171693Z",
     "start_time": "2025-04-14T19:58:47.166968Z"
    }
   },
   "cell_type": "code",
   "source": [
    "import csv\n",
    "with open('dict.csv', 'w') as csv_file:\n",
    "    writer = csv.writer(csv_file)\n",
    "    for key, values in synonyms.items():\n",
    "        for value in values:\n",
    "            writer.writerow([key, value])"
   ],
   "outputs": [],
   "execution_count": 8
  }
 ],
 "metadata": {
  "colab": {
   "provenance": []
  },
  "kernelspec": {
   "display_name": "Python 3 (ipykernel)",
   "name": "python3",
   "language": "python"
  },
  "language_info": {
   "name": "python"
  }
 },
 "nbformat": 4,
 "nbformat_minor": 0
}
